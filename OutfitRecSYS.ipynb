{
 "cells": [
  {
   "cell_type": "code",
   "execution_count": 2,
   "metadata": {},
   "outputs": [],
   "source": [
    "import numpy as np\n",
    "import pandas as pd\n",
    "import matplotlib.pyplot as plt\n",
    "import os\n",
    "import warnings"
   ]
  },
  {
   "cell_type": "code",
   "execution_count": 3,
   "metadata": {},
   "outputs": [],
   "source": [
    "import matplotlib.pyplot as plt\n",
    "%matplotlib inline"
   ]
  },
  {
   "cell_type": "code",
   "execution_count": 4,
   "metadata": {},
   "outputs": [],
   "source": [
    "import matplotlib.image as mpimg"
   ]
  },
  {
   "cell_type": "code",
   "execution_count": 5,
   "metadata": {},
   "outputs": [
    {
     "name": "stderr",
     "output_type": "stream",
     "text": [
      "Using TensorFlow backend.\n"
     ]
    }
   ],
   "source": [
    "from keras.models import Model, Sequential\n",
    "from keras.layers import Input, Embedding, Dense, Conv2D, Activation, Dot, Reshape,MaxPooling2D, Flatten"
   ]
  },
  {
   "cell_type": "code",
   "execution_count": 6,
   "metadata": {},
   "outputs": [],
   "source": [
    "    \n",
    "def process_image(path):\n",
    "    img = image.load_img(path, target_size=(224, 224, 3))\n",
    "    img_array = image.img_to_array(img)\n",
    "    \n",
    "    return img_array"
   ]
  },
  {
   "cell_type": "code",
   "execution_count": 7,
   "metadata": {},
   "outputs": [],
   "source": [
    "train = pd.read_csv('data/pracdat.csv')"
   ]
  },
  {
   "cell_type": "code",
   "execution_count": 8,
   "metadata": {},
   "outputs": [],
   "source": [
    "def extract_data(df):\n",
    "    \n",
    "    \n",
    "    data1, data2, labels = [], [], []\n",
    "\n",
    "    for _,row in df.iterrows():\n",
    "        img_one = process_image('data/'+ row['HeroID'])\n",
    "        img_two = process_image('data/'+ row['StylingID'])\n",
    "        label = row['Match']\n",
    "        labels.append(label)\n",
    "        \n",
    "#         combined_image = np.concatenate((img_one, img_two), axis =1)\n",
    "        data1.append(img_one)\n",
    "        data2.append(img_two)\n",
    "\n",
    "        \n",
    "    labels = np.array(labels)\n",
    "    data1 = np.array(data1)/255.0\n",
    "    data2 = np.array(data2)/255.0\n",
    "    \n",
    "#     print(len(data))\n",
    "#     print(len(labels))\n",
    "    return data1, data2, labels"
   ]
  },
  {
   "cell_type": "code",
   "execution_count": 9,
   "metadata": {},
   "outputs": [],
   "source": [
    "from keras.preprocessing import image"
   ]
  },
  {
   "cell_type": "code",
   "execution_count": 10,
   "metadata": {},
   "outputs": [],
   "source": [
    "traindata1, traindata2, trainlabel = extract_data(train)\n"
   ]
  },
  {
   "cell_type": "code",
   "execution_count": 11,
   "metadata": {},
   "outputs": [],
   "source": [
    "vision_model = Sequential()\n",
    "vision_model.add(Conv2D(64, (3, 3), activation='relu', padding='same', input_shape=(224, 224, 3)))\n",
    "vision_model.add(Conv2D(64, (3, 3), activation='relu'))\n",
    "vision_model.add(MaxPooling2D((2, 2)))\n",
    "vision_model.add(Conv2D(128, (3, 3), activation='relu', padding='same'))\n",
    "vision_model.add(Conv2D(128, (3, 3), activation='relu'))\n",
    "vision_model.add(MaxPooling2D((2, 2)))\n",
    "vision_model.add(Conv2D(256, (3, 3), activation='relu', padding='same'))\n",
    "vision_model.add(Conv2D(256, (3, 3), activation='relu'))\n",
    "vision_model.add(Conv2D(256, (3, 3), activation='relu'))\n",
    "vision_model.add(MaxPooling2D((2, 2)))\n",
    "vision_model.add(Flatten())"
   ]
  },
  {
   "cell_type": "code",
   "execution_count": 12,
   "metadata": {},
   "outputs": [],
   "source": [
    "outfit1 = Input(name = 'outfit1', shape = (224, 224, 3))\n",
    "outfit1Model = vision_model(outfit1)\n",
    "\n",
    "outfit2 = Input(name = 'outfit2', shape = (224, 224, 3))\n",
    "outfit2Model = vision_model(outfit2)"
   ]
  },
  {
   "cell_type": "code",
   "execution_count": 13,
   "metadata": {},
   "outputs": [],
   "source": [
    "merged = Dot(name = 'dot_product', normalize = True, axes = 1)([outfit1Model, outfit2Model])\n",
    "merged = Reshape(target_shape = [1])(merged)"
   ]
  },
  {
   "cell_type": "code",
   "execution_count": 14,
   "metadata": {},
   "outputs": [],
   "source": [
    "out = Dense(1, activation = 'sigmoid')(merged)\n"
   ]
  },
  {
   "cell_type": "code",
   "execution_count": 15,
   "metadata": {},
   "outputs": [],
   "source": [
    "model = Model(inputs =[outfit1, outfit2], outputs = out)"
   ]
  },
  {
   "cell_type": "code",
   "execution_count": 16,
   "metadata": {},
   "outputs": [],
   "source": [
    "model.compile(optimizer = 'Adam', loss = 'binary_crossentropy', metrics = ['accuracy'])"
   ]
  },
  {
   "cell_type": "code",
   "execution_count": 36,
   "metadata": {},
   "outputs": [
    {
     "name": "stdout",
     "output_type": "stream",
     "text": [
      "Model: \"model_1\"\n",
      "__________________________________________________________________________________________________\n",
      "Layer (type)                    Output Shape         Param #     Connected to                     \n",
      "==================================================================================================\n",
      "outfit1 (InputLayer)            (None, 224, 224, 3)  0                                            \n",
      "__________________________________________________________________________________________________\n",
      "outfit2 (InputLayer)            (None, 224, 224, 3)  0                                            \n",
      "__________________________________________________________________________________________________\n",
      "sequential_2 (Sequential)       (None, 160000)       1735488     outfit1[0][0]                    \n",
      "                                                                 outfit2[0][0]                    \n",
      "__________________________________________________________________________________________________\n",
      "dot_product (Dot)               (None, 1)            0           sequential_2[3][0]               \n",
      "                                                                 sequential_2[4][0]               \n",
      "__________________________________________________________________________________________________\n",
      "reshape_1 (Reshape)             (None, 1)            0           dot_product[0][0]                \n",
      "__________________________________________________________________________________________________\n",
      "dense_1 (Dense)                 (None, 1)            2           reshape_1[0][0]                  \n",
      "==================================================================================================\n",
      "Total params: 1,735,490\n",
      "Trainable params: 1,735,490\n",
      "Non-trainable params: 0\n",
      "__________________________________________________________________________________________________\n"
     ]
    }
   ],
   "source": [
    "model.summary()\n"
   ]
  },
  {
   "cell_type": "code",
   "execution_count": 37,
   "metadata": {},
   "outputs": [
    {
     "name": "stdout",
     "output_type": "stream",
     "text": [
      "Epoch 1/30\n",
      "9/9 [==============================] - 13s 1s/step - loss: 0.8081 - accuracy: 0.5556\n",
      "Epoch 2/30\n",
      "9/9 [==============================] - 10s 1s/step - loss: 0.8076 - accuracy: 0.5556\n",
      "Epoch 3/30\n",
      "9/9 [==============================] - 13s 1s/step - loss: 0.7858 - accuracy: 0.5556\n",
      "Epoch 4/30\n",
      "9/9 [==============================] - 11s 1s/step - loss: 0.7323 - accuracy: 0.5556\n",
      "Epoch 5/30\n",
      "9/9 [==============================] - 11s 1s/step - loss: 0.7001 - accuracy: 0.5556\n",
      "Epoch 6/30\n",
      "9/9 [==============================] - 10s 1s/step - loss: 0.8210 - accuracy: 0.5556\n",
      "Epoch 7/30\n",
      "9/9 [==============================] - 11s 1s/step - loss: 0.8105 - accuracy: 0.5556\n",
      "Epoch 8/30\n",
      "9/9 [==============================] - 10s 1s/step - loss: 0.7882 - accuracy: 0.5556\n",
      "Epoch 9/30\n",
      "9/9 [==============================] - 10s 1s/step - loss: 0.7597 - accuracy: 0.5556\n",
      "Epoch 10/30\n",
      "9/9 [==============================] - 10s 1s/step - loss: 0.7208 - accuracy: 0.5556\n",
      "Epoch 11/30\n",
      "9/9 [==============================] - 13s 1s/step - loss: 0.7137 - accuracy: 0.5556\n",
      "Epoch 12/30\n",
      "9/9 [==============================] - 12s 1s/step - loss: 0.6762 - accuracy: 0.5556\n",
      "Epoch 13/30\n",
      "9/9 [==============================] - 11s 1s/step - loss: 0.6505 - accuracy: 0.5556\n",
      "Epoch 14/30\n",
      "9/9 [==============================] - 11s 1s/step - loss: 0.7037 - accuracy: 0.5556\n",
      "Epoch 15/30\n",
      "9/9 [==============================] - 11s 1s/step - loss: 0.6938 - accuracy: 0.5556\n",
      "Epoch 16/30\n",
      "9/9 [==============================] - 12s 1s/step - loss: 0.6485 - accuracy: 0.5556\n",
      "Epoch 17/30\n",
      "9/9 [==============================] - 11s 1s/step - loss: 0.6342 - accuracy: 0.5556\n",
      "Epoch 18/30\n",
      "9/9 [==============================] - 11s 1s/step - loss: 0.6625 - accuracy: 0.5556\n",
      "Epoch 19/30\n",
      "9/9 [==============================] - 11s 1s/step - loss: 0.6417 - accuracy: 0.5556\n",
      "Epoch 20/30\n",
      "9/9 [==============================] - 11s 1s/step - loss: 0.6317 - accuracy: 0.5556\n",
      "Epoch 21/30\n",
      "9/9 [==============================] - 11s 1s/step - loss: 0.6259 - accuracy: 0.5556\n",
      "Epoch 22/30\n",
      "9/9 [==============================] - 11s 1s/step - loss: 0.6288 - accuracy: 0.5556\n",
      "Epoch 23/30\n",
      "9/9 [==============================] - 11s 1s/step - loss: 0.6207 - accuracy: 0.5556\n",
      "Epoch 24/30\n",
      "9/9 [==============================] - 11s 1s/step - loss: 0.6229 - accuracy: 0.5556\n",
      "Epoch 25/30\n",
      "9/9 [==============================] - 11s 1s/step - loss: 0.6130 - accuracy: 0.5556\n",
      "Epoch 26/30\n",
      "9/9 [==============================] - 11s 1s/step - loss: 0.6098 - accuracy: 0.5556\n",
      "Epoch 27/30\n",
      "9/9 [==============================] - 12s 1s/step - loss: 0.5998 - accuracy: 0.5556\n",
      "Epoch 28/30\n",
      "9/9 [==============================] - 11s 1s/step - loss: 0.6221 - accuracy: 0.5556\n",
      "Epoch 29/30\n",
      "9/9 [==============================] - 11s 1s/step - loss: 0.6609 - accuracy: 0.5556\n",
      "Epoch 30/30\n",
      "9/9 [==============================] - 11s 1s/step - loss: 0.6314 - accuracy: 0.5556\n"
     ]
    },
    {
     "data": {
      "text/plain": [
       "<keras.callbacks.callbacks.History at 0x13ddf19b0>"
      ]
     },
     "execution_count": 37,
     "metadata": {},
     "output_type": "execute_result"
    }
   ],
   "source": [
    "model.fit([traindata1, traindata2], trainlabel,\n",
    "                    epochs=30,\n",
    "                    batch_size=9\n",
    "                    )\n"
   ]
  },
  {
   "cell_type": "code",
   "execution_count": 39,
   "metadata": {},
   "outputs": [],
   "source": [
    "model.save('first_attempt_class.h5')"
   ]
  },
  {
   "cell_type": "code",
   "execution_count": 55,
   "metadata": {},
   "outputs": [],
   "source": [
    "predict_df = pd.read_csv('data/pracdatatest.csv')"
   ]
  },
  {
   "cell_type": "code",
   "execution_count": 56,
   "metadata": {},
   "outputs": [],
   "source": [
    "testdata1, testdata2, testlabel = extract_data(predict_df)"
   ]
  },
  {
   "cell_type": "code",
   "execution_count": 57,
   "metadata": {},
   "outputs": [],
   "source": [
    "features = model.predict([testdata1, testdata2])"
   ]
  },
  {
   "cell_type": "code",
   "execution_count": 69,
   "metadata": {},
   "outputs": [
    {
     "name": "stdout",
     "output_type": "stream",
     "text": [
      "[[0.7273589 ]\n",
      " [0.75668967]\n",
      " [0.74726164]\n",
      " [0.640111  ]]\n"
     ]
    }
   ],
   "source": [
    "print(features)"
   ]
  },
  {
   "cell_type": "code",
   "execution_count": 71,
   "metadata": {},
   "outputs": [],
   "source": [
    "from sklearn.manifold import TSNE"
   ]
  },
  {
   "cell_type": "code",
   "execution_count": 73,
   "metadata": {},
   "outputs": [
    {
     "name": "stdout",
     "output_type": "stream",
     "text": [
      "[t-SNE] Computing 3 nearest neighbors...\n",
      "[t-SNE] Indexed 4 samples in 0.000s...\n",
      "[t-SNE] Computed neighbors for 4 samples in 0.004s...\n",
      "[t-SNE] Computed conditional probabilities for sample 4 / 4\n",
      "[t-SNE] Mean sigma: 1125899906842624.000000\n",
      "[t-SNE] KL divergence after 250 iterations with early exaggeration: 36.584835\n",
      "[t-SNE] KL divergence after 1000 iterations: 0.048696\n"
     ]
    },
    {
     "data": {
      "image/png": "[encoded data removed]",
      "text/plain": [
       "<Figure size 432x288 with 2 Axes>"
      ]
     },
     "metadata": {
      "needs_background": "light"
     },
     "output_type": "display_data"
    }
   ],
   "source": [
    "tsne_results = TSNE(n_components=2,verbose=1,metric='cosine').fit_transform(features)\n",
    "\n",
    "# Plot a scatter plot from the generated t-SNE results\n",
    "colormap = plt.cm.get_cmap('coolwarm')\n",
    "scatter_plot = plt.scatter(tsne_results[:,0],tsne_results[:,1],cmap=colormap)\n",
    "plt.colorbar(scatter_plot)\n",
    "plt.show()"
   ]
  },
  {
   "cell_type": "code",
   "execution_count": 1,
   "metadata": {},
   "outputs": [
    {
     "ename": "NameError",
     "evalue": "name 'features' is not defined",
     "output_type": "error",
     "traceback": [
      "\u001b[0;31m---------------------------------------------------------------------------\u001b[0m",
      "\u001b[0;31mNameError\u001b[0m                                 Traceback (most recent call last)",
      "\u001b[0;32m<ipython-input-1-18965972e7fe>\u001b[0m in \u001b[0;36m<module>\u001b[0;34m\u001b[0m\n\u001b[0;32m----> 1\u001b[0;31m \u001b[0mfeatures\u001b[0m\u001b[0;34m[\u001b[0m\u001b[0;36m0\u001b[0m\u001b[0;34m]\u001b[0m\u001b[0;34m.\u001b[0m\u001b[0mshape\u001b[0m\u001b[0;34m\u001b[0m\u001b[0;34m\u001b[0m\u001b[0m\n\u001b[0m",
      "\u001b[0;31mNameError\u001b[0m: name 'features' is not defined"
     ]
    }
   ],
   "source": [
    "features[0].shape"
   ]
  },
  {
   "cell_type": "code",
   "execution_count": null,
   "metadata": {},
   "outputs": [],
   "source": []
  }
 ],
 "metadata": {
  "kernelspec": {
   "display_name": "Python 3",
   "language": "python",
   "name": "python3"
  },
  "language_info": {
   "codemirror_mode": {
    "name": "ipython",
    "version": 3
   },
   "file_extension": ".py",
   "mimetype": "text/x-python",
   "name": "python",
   "nbconvert_exporter": "python",
   "pygments_lexer": "ipython3",
   "version": "3.7.3"
  }
 },
 "nbformat": 4,
 "nbformat_minor": 4
}
